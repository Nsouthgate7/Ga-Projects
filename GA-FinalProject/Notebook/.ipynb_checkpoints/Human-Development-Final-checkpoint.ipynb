{
 "cells": [
  {
   "cell_type": "markdown",
   "metadata": {},
   "source": [
    "#### Nicholas Southgate"
   ]
  },
  {
   "cell_type": "markdown",
   "metadata": {},
   "source": [
    "The Data I am using comes from the 2015 Human Development Report done each year by the United Nations Development Program.\n",
    "http://hdr.undp.org/en"
   ]
  },
  {
   "cell_type": "markdown",
   "metadata": {},
   "source": [
    "# Problem:"
   ]
  },
  {
   "cell_type": "markdown",
   "metadata": {},
   "source": [
    "My goal was to use the variables from the tables of the Human Development Report to construct a model in order to predict the development score of the nearly 200 countries in the report."
   ]
  },
  {
   "cell_type": "markdown",
   "metadata": {},
   "source": [
    "The United Nations puts out these reports every year in hopes of shifting economics from just increasing national income to creating policy that focuses on people centered development."
   ]
  },
  {
   "cell_type": "markdown",
   "metadata": {},
   "source": [
    "Infrastructure spending and human development/happiness have been recurring topics of analysis that show up in my studies. I thought it would be fitting and better for me to continue taking a deeper dive into the information that makes up these reports."
   ]
  },
  {
   "cell_type": "markdown",
   "metadata": {},
   "source": [
    "# Data:"
   ]
  },
  {
   "cell_type": "markdown",
   "metadata": {},
   "source": [
    "The Data is presented in a Fifteen Table .xlsx file, in order to convert to .csv with UTF-8 encoding the tables had to be separated into their own individual files."
   ]
  },
  {
   "cell_type": "code",
   "execution_count": 19,
   "metadata": {},
   "outputs": [],
   "source": [
    "%matplotlib inline\n",
    "import matplotlib.pyplot as plt\n",
    "import numpy as np\n",
    "import pandas as pd\n",
    "import seaborn as sns\n",
    "from sklearn.linear_model import LinearRegression"
   ]
  },
  {
   "cell_type": "code",
   "execution_count": 10,
   "metadata": {},
   "outputs": [],
   "source": [
    "Development_Table1 = pd.read_csv(\"../data/TableDev1.csv\")"
   ]
  },
  {
   "cell_type": "markdown",
   "metadata": {},
   "source": [
    "Table 1 of the Human Development Report contains The index of the report and its components. \n",
    "\n",
    "The variables of data that are used here weigh heavily in predicting the development value of a given country.\n",
    "\n",
    "_____________________________________________________________________________________________________________________\n",
    "\n",
    "The Variables Are:\n",
    "\n",
    "\n",
    "\n"
   ]
  },
  {
   "cell_type": "markdown",
   "metadata": {},
   "source": [
    "\n",
    "\n",
    "Human Development Index Rank - ( 1 - 188 )"
   ]
  },
  {
   "cell_type": "markdown",
   "metadata": {},
   "source": [
    "Country - ( From Highest Development to Lowest )"
   ]
  },
  {
   "cell_type": "markdown",
   "metadata": {},
   "source": [
    "Human Development Index Value - ( 0.352 - 0.949 )"
   ]
  },
  {
   "cell_type": "markdown",
   "metadata": {},
   "source": [
    "Life Expectancy at Birth (years) ( 51.5 - 81.7 )"
   ]
  },
  {
   "cell_type": "markdown",
   "metadata": {},
   "source": [
    "Expected years of schooling - ( 7.1 - 17.7 )"
   ]
  },
  {
   "cell_type": "markdown",
   "metadata": {},
   "source": [
    "Mean years of schooling - ( 4.2 - 12.7 )"
   ]
  },
  {
   "cell_type": "markdown",
   "metadata": {},
   "source": [
    "Gross National Income (GNI) per capita ($) - ( 587 - 67,614 )"
   ]
  },
  {
   "cell_type": "markdown",
   "metadata": {},
   "source": [
    "GNI per capita minus HDI rank"
   ]
  },
  {
   "cell_type": "markdown",
   "metadata": {},
   "source": [
    "\n",
    "\n",
    "______________________________________________________________________________________________________________________"
   ]
  },
  {
   "cell_type": "markdown",
   "metadata": {},
   "source": [
    "\n",
    "Further Tables of the report go on to evaluate each variable in depth,\n",
    "in terms of development trends, Inequality, Gender development, \n",
    "Multidimensional poverty, Population patterns, Health outcomes, \n",
    "Achievement in education, National Income, Employment, Safety, and International standing."
   ]
  },
  {
   "cell_type": "markdown",
   "metadata": {},
   "source": [
    "# Model/Analysis:"
   ]
  },
  {
   "cell_type": "markdown",
   "metadata": {},
   "source": [
    "Linear Regression Model: \n",
    "\n",
    "Using the variables from Table 1 of the report, I could construct a linear regression model that predicted the development score of the 188 countries in the index. I could then use the Human Development Index Value provided by the report to compare to the model score to test the accuracy of the model.\n",
    "\n",
    "A model like this would also allow us to see what kind of variables have the biggest effect on the index value of development.\n",
    "\n",
    "I looked to create a model that not only predicted development value but also gave means to describe the data.\n",
    "\n"
   ]
  },
  {
   "cell_type": "markdown",
   "metadata": {},
   "source": [
    "Logistic Regression, Random Forest, and K Nearest Neighbors are also potential models to create the prediction."
   ]
  },
  {
   "cell_type": "markdown",
   "metadata": {},
   "source": [
    "\n",
    "\n",
    "______________________________________________________________________________________________________________________"
   ]
  },
  {
   "cell_type": "markdown",
   "metadata": {},
   "source": []
  }
 ],
 "metadata": {
  "kernelspec": {
   "display_name": "Python 3",
   "language": "python",
   "name": "python3"
  },
  "language_info": {
   "codemirror_mode": {
    "name": "ipython",
    "version": 3
   },
   "file_extension": ".py",
   "mimetype": "text/x-python",
   "name": "python",
   "nbconvert_exporter": "python",
   "pygments_lexer": "ipython3",
   "version": "3.6.4"
  }
 },
 "nbformat": 4,
 "nbformat_minor": 2
}
